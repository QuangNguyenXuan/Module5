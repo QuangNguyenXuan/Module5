{
  "nbformat": 4,
  "nbformat_minor": 0,
  "metadata": {
    "colab": {
      "provenance": [],
      "toc_visible": true
    },
    "kernelspec": {
      "name": "python3",
      "display_name": "Python 3"
    },
    "language_info": {
      "name": "python"
    }
  },
  "cells": [
    {
      "cell_type": "markdown",
      "source": [
        "#AI VIET NAM\n",
        "##Multilayer Perceptron\n",
        "**Nguyen Quoc Thai**"
      ],
      "metadata": {
        "id": "d7i5sXVw-vcD"
      }
    },
    {
      "cell_type": "markdown",
      "source": [
        "##1.MLP"
      ],
      "metadata": {
        "id": "vJTWlufa-4Fo"
      }
    },
    {
      "cell_type": "code",
      "execution_count": null,
      "metadata": {
        "id": "0CZtkIh5rF75"
      },
      "outputs": [],
      "source": [
        "import numpy as np\n",
        "import torch\n",
        "import torch.nn as nn\n",
        "import torch.optim as optim\n",
        "from torchsummary import summary"
      ]
    },
    {
      "cell_type": "markdown",
      "source": [
        "**Model**"
      ],
      "metadata": {
        "id": "MeR-kYd2iEk3"
      }
    },
    {
      "cell_type": "code",
      "source": [
        "model = nn.Sequential(\n",
        "    nn.Linear(1, 1),\n",
        "    nn.Linear(1, 1),\n",
        "    nn.Sigmoid()\n",
        ")"
      ],
      "metadata": {
        "id": "uqqm6BANiEMZ"
      },
      "execution_count": null,
      "outputs": []
    },
    {
      "cell_type": "code",
      "source": [
        "print(model)"
      ],
      "metadata": {
        "colab": {
          "base_uri": "https://localhost:8080/"
        },
        "id": "jve9pmkiqG9O",
        "outputId": "dc53df6c-e6ef-4e5d-dfd9-519a7f378b0c"
      },
      "execution_count": null,
      "outputs": [
        {
          "output_type": "stream",
          "name": "stdout",
          "text": [
            "Sequential(\n",
            "  (0): Linear(in_features=1, out_features=1, bias=True)\n",
            "  (1): Linear(in_features=1, out_features=1, bias=True)\n",
            "  (2): Sigmoid()\n",
            ")\n"
          ]
        }
      ]
    },
    {
      "cell_type": "code",
      "source": [
        "summary(model, (1, 1))"
      ],
      "metadata": {
        "colab": {
          "base_uri": "https://localhost:8080/"
        },
        "id": "-Hab35xQi4Ck",
        "outputId": "8838f8d8-c429-4c4c-ea09-e4e82bfb9cd6"
      },
      "execution_count": null,
      "outputs": [
        {
          "output_type": "stream",
          "name": "stdout",
          "text": [
            "----------------------------------------------------------------\n",
            "        Layer (type)               Output Shape         Param #\n",
            "================================================================\n",
            "            Linear-1                 [-1, 1, 1]               2\n",
            "            Linear-2                 [-1, 1, 1]               2\n",
            "           Sigmoid-3                 [-1, 1, 1]               0\n",
            "================================================================\n",
            "Total params: 4\n",
            "Trainable params: 4\n",
            "Non-trainable params: 0\n",
            "----------------------------------------------------------------\n",
            "Input size (MB): 0.00\n",
            "Forward/backward pass size (MB): 0.00\n",
            "Params size (MB): 0.00\n",
            "Estimated Total Size (MB): 0.00\n",
            "----------------------------------------------------------------\n"
          ]
        }
      ]
    },
    {
      "cell_type": "code",
      "source": [
        "for layer in model.children():\n",
        "    print(layer.state_dict())"
      ],
      "metadata": {
        "colab": {
          "base_uri": "https://localhost:8080/"
        },
        "id": "-6m3UBb1oCd5",
        "outputId": "0e826589-78aa-4ac2-e5b0-069370b4d758"
      },
      "execution_count": null,
      "outputs": [
        {
          "output_type": "stream",
          "name": "stdout",
          "text": [
            "OrderedDict([('weight', tensor([[-0.8000]])), ('bias', tensor([-0.6401]))])\n",
            "OrderedDict([('weight', tensor([[-0.1822]])), ('bias', tensor([0.8672]))])\n",
            "OrderedDict()\n"
          ]
        }
      ]
    },
    {
      "cell_type": "code",
      "source": [
        "model = nn.Sequential(\n",
        "    nn.Linear(2, 2),\n",
        "    nn.Linear(2, 2),\n",
        "    nn.Sigmoid()\n",
        ")"
      ],
      "metadata": {
        "id": "Sk0MOGx-k8o3"
      },
      "execution_count": null,
      "outputs": []
    },
    {
      "cell_type": "code",
      "source": [
        "print(model)"
      ],
      "metadata": {
        "colab": {
          "base_uri": "https://localhost:8080/"
        },
        "id": "JiWDOUMlqJX9",
        "outputId": "c9125f69-6fd1-4d0e-d12f-cb77d1b9f0a1"
      },
      "execution_count": null,
      "outputs": [
        {
          "output_type": "stream",
          "name": "stdout",
          "text": [
            "Sequential(\n",
            "  (0): Linear(in_features=2, out_features=2, bias=True)\n",
            "  (1): Linear(in_features=2, out_features=2, bias=True)\n",
            "  (2): Sigmoid()\n",
            ")\n"
          ]
        }
      ]
    },
    {
      "cell_type": "code",
      "source": [
        "summary(model, (1, 2))"
      ],
      "metadata": {
        "colab": {
          "base_uri": "https://localhost:8080/"
        },
        "id": "LzNk0PEqlhsH",
        "outputId": "fe57fde0-2d5e-4631-82c5-5a90920dc865"
      },
      "execution_count": null,
      "outputs": [
        {
          "output_type": "stream",
          "name": "stdout",
          "text": [
            "----------------------------------------------------------------\n",
            "        Layer (type)               Output Shape         Param #\n",
            "================================================================\n",
            "            Linear-1                 [-1, 1, 2]               6\n",
            "            Linear-2                 [-1, 1, 2]               6\n",
            "           Sigmoid-3                 [-1, 1, 2]               0\n",
            "================================================================\n",
            "Total params: 12\n",
            "Trainable params: 12\n",
            "Non-trainable params: 0\n",
            "----------------------------------------------------------------\n",
            "Input size (MB): 0.00\n",
            "Forward/backward pass size (MB): 0.00\n",
            "Params size (MB): 0.00\n",
            "Estimated Total Size (MB): 0.00\n",
            "----------------------------------------------------------------\n"
          ]
        }
      ]
    },
    {
      "cell_type": "code",
      "source": [
        "for layer in model.children():\n",
        "    print(layer.state_dict())"
      ],
      "metadata": {
        "colab": {
          "base_uri": "https://localhost:8080/"
        },
        "id": "Cj3ktiK7qFp3",
        "outputId": "f2ef0c02-1228-497c-8e9e-1b093f5b9814"
      },
      "execution_count": null,
      "outputs": [
        {
          "output_type": "stream",
          "name": "stdout",
          "text": [
            "OrderedDict([('weight', tensor([[0.6592, 0.5536],\n",
            "        [0.0871, 0.0487]])), ('bias', tensor([ 0.1435, -0.4404]))])\n",
            "OrderedDict([('weight', tensor([[-0.3774,  0.5080],\n",
            "        [ 0.3373,  0.5463]])), ('bias', tensor([ 0.6397, -0.4851]))])\n",
            "OrderedDict()\n"
          ]
        }
      ]
    },
    {
      "cell_type": "markdown",
      "source": [
        "**Sample**"
      ],
      "metadata": {
        "id": "RMc3CJ82iJ9D"
      }
    },
    {
      "cell_type": "code",
      "source": [
        "x = torch.tensor([1.0, 2.0])\n",
        "y = torch.tensor([0.0])"
      ],
      "metadata": {
        "id": "xfojDfA0rUjT"
      },
      "execution_count": null,
      "outputs": []
    },
    {
      "cell_type": "code",
      "source": [
        "x, y"
      ],
      "metadata": {
        "colab": {
          "base_uri": "https://localhost:8080/"
        },
        "id": "QUZL2gZyriyH",
        "outputId": "da1f1158-83f1-4c3a-ad4a-4c36dbed4ae8"
      },
      "execution_count": null,
      "outputs": [
        {
          "output_type": "execute_result",
          "data": {
            "text/plain": [
              "(tensor([1., 2.]), tensor([0.]))"
            ]
          },
          "metadata": {},
          "execution_count": 11
        }
      ]
    },
    {
      "cell_type": "markdown",
      "source": [
        "### BCELoss"
      ],
      "metadata": {
        "id": "tiD9GH_x_BSO"
      }
    },
    {
      "cell_type": "code",
      "source": [
        "model = nn.Sequential(\n",
        "    nn.Linear(2, 2),\n",
        "    nn.Linear(2, 1),\n",
        "    nn.Sigmoid()\n",
        ")"
      ],
      "metadata": {
        "id": "rzHCx1L_rmcX"
      },
      "execution_count": null,
      "outputs": []
    },
    {
      "cell_type": "code",
      "source": [
        "print(model)"
      ],
      "metadata": {
        "colab": {
          "base_uri": "https://localhost:8080/"
        },
        "id": "alffCQqKr18S",
        "outputId": "d07e1bdf-c3f7-4ed0-93cb-72c5da5be041"
      },
      "execution_count": null,
      "outputs": [
        {
          "output_type": "stream",
          "name": "stdout",
          "text": [
            "Sequential(\n",
            "  (0): Linear(in_features=2, out_features=2, bias=True)\n",
            "  (1): Linear(in_features=2, out_features=1, bias=True)\n",
            "  (2): Sigmoid()\n",
            ")\n"
          ]
        }
      ]
    },
    {
      "cell_type": "code",
      "source": [
        "summary(model, (1, 2))"
      ],
      "metadata": {
        "colab": {
          "base_uri": "https://localhost:8080/"
        },
        "id": "LM5ifinFsB5p",
        "outputId": "90faf121-17de-4c9b-cbf8-d5d597e666ba"
      },
      "execution_count": null,
      "outputs": [
        {
          "output_type": "stream",
          "name": "stdout",
          "text": [
            "----------------------------------------------------------------\n",
            "        Layer (type)               Output Shape         Param #\n",
            "================================================================\n",
            "            Linear-1                 [-1, 1, 2]               6\n",
            "            Linear-2                 [-1, 1, 1]               3\n",
            "           Sigmoid-3                 [-1, 1, 1]               0\n",
            "================================================================\n",
            "Total params: 9\n",
            "Trainable params: 9\n",
            "Non-trainable params: 0\n",
            "----------------------------------------------------------------\n",
            "Input size (MB): 0.00\n",
            "Forward/backward pass size (MB): 0.00\n",
            "Params size (MB): 0.00\n",
            "Estimated Total Size (MB): 0.00\n",
            "----------------------------------------------------------------\n"
          ]
        }
      ]
    },
    {
      "cell_type": "code",
      "source": [
        "for layer in model.children():\n",
        "    print(layer.state_dict())"
      ],
      "metadata": {
        "colab": {
          "base_uri": "https://localhost:8080/"
        },
        "id": "u7luO011EQn7",
        "outputId": "b94d100e-88dd-4189-8df6-0cea8a7c8d78"
      },
      "execution_count": null,
      "outputs": [
        {
          "output_type": "stream",
          "name": "stdout",
          "text": [
            "OrderedDict([('weight', tensor([[0.1796, 0.1219],\n",
            "        [0.6184, 0.0992]])), ('bias', tensor([-0.4525, -0.6271]))])\n",
            "OrderedDict([('weight', tensor([[-0.0168,  0.1894]])), ('bias', tensor([-0.1033]))])\n",
            "OrderedDict()\n"
          ]
        }
      ]
    },
    {
      "cell_type": "code",
      "source": [
        "for p in model.parameters():\n",
        "    nn.init.constant_(p, 0.1)"
      ],
      "metadata": {
        "id": "CV2eSGRPER0V"
      },
      "execution_count": null,
      "outputs": []
    },
    {
      "cell_type": "code",
      "source": [
        "for layer in model.children():\n",
        "    print(layer.state_dict())"
      ],
      "metadata": {
        "colab": {
          "base_uri": "https://localhost:8080/"
        },
        "id": "rVbK-xlXEYoj",
        "outputId": "2c28011d-9822-4a5d-e5f1-ad1c0306ac99"
      },
      "execution_count": null,
      "outputs": [
        {
          "output_type": "stream",
          "name": "stdout",
          "text": [
            "OrderedDict([('weight', tensor([[0.1000, 0.1000],\n",
            "        [0.1000, 0.1000]])), ('bias', tensor([0.1000, 0.1000]))])\n",
            "OrderedDict([('weight', tensor([[0.1000, 0.1000]])), ('bias', tensor([0.1000]))])\n",
            "OrderedDict()\n"
          ]
        }
      ]
    },
    {
      "cell_type": "code",
      "source": [
        "y_pred = model(x)\n",
        "y_pred"
      ],
      "metadata": {
        "colab": {
          "base_uri": "https://localhost:8080/"
        },
        "id": "mi3B2sDDswqp",
        "outputId": "e666e669-a8b7-4520-a080-28f970a6836e"
      },
      "execution_count": null,
      "outputs": [
        {
          "output_type": "execute_result",
          "data": {
            "text/plain": [
              "tensor([0.5449], grad_fn=<SigmoidBackward0>)"
            ]
          },
          "metadata": {},
          "execution_count": 18
        }
      ]
    },
    {
      "cell_type": "markdown",
      "source": [
        "**Activation**"
      ],
      "metadata": {
        "id": "6PtoMz-ySPRF"
      }
    },
    {
      "cell_type": "code",
      "source": [
        "import torch.nn as nn\n",
        "\n",
        "act = nn.Sigmoid()\n",
        "input = torch.tensor([0.18, -0.18])\n",
        "act(input)"
      ],
      "metadata": {
        "colab": {
          "base_uri": "https://localhost:8080/"
        },
        "id": "JWbI8osQKqhd",
        "outputId": "19ebc8c6-63cd-410d-e13c-ef17c63ac516"
      },
      "execution_count": null,
      "outputs": [
        {
          "output_type": "execute_result",
          "data": {
            "text/plain": [
              "tensor([0.5449, 0.4551])"
            ]
          },
          "metadata": {},
          "execution_count": 25
        }
      ]
    },
    {
      "cell_type": "code",
      "source": [
        "model = nn.Sequential(\n",
        "    nn.Linear(2, 2),\n",
        "    nn.Sigmoid(),\n",
        "    nn.Linear(2, 1),\n",
        "    nn.Sigmoid()\n",
        ")"
      ],
      "metadata": {
        "id": "Xqd7sdTXW0S-"
      },
      "execution_count": null,
      "outputs": []
    },
    {
      "cell_type": "code",
      "source": [
        "summary(model, (1, 2))"
      ],
      "metadata": {
        "colab": {
          "base_uri": "https://localhost:8080/"
        },
        "id": "bnFfThUeW6_v",
        "outputId": "ec46c11f-2843-4e1d-b703-8a703b1756c2"
      },
      "execution_count": null,
      "outputs": [
        {
          "output_type": "stream",
          "name": "stdout",
          "text": [
            "----------------------------------------------------------------\n",
            "        Layer (type)               Output Shape         Param #\n",
            "================================================================\n",
            "            Linear-1                 [-1, 1, 2]               6\n",
            "           Sigmoid-2                 [-1, 1, 2]               0\n",
            "            Linear-3                 [-1, 1, 1]               3\n",
            "           Sigmoid-4                 [-1, 1, 1]               0\n",
            "================================================================\n",
            "Total params: 9\n",
            "Trainable params: 9\n",
            "Non-trainable params: 0\n",
            "----------------------------------------------------------------\n",
            "Input size (MB): 0.00\n",
            "Forward/backward pass size (MB): 0.00\n",
            "Params size (MB): 0.00\n",
            "Estimated Total Size (MB): 0.00\n",
            "----------------------------------------------------------------\n"
          ]
        }
      ]
    },
    {
      "cell_type": "code",
      "source": [
        "import torch.nn as nn\n",
        "\n",
        "act = nn.Tanh()\n",
        "input = torch.tensor([0.18, -0.18])\n",
        "act(input)"
      ],
      "metadata": {
        "colab": {
          "base_uri": "https://localhost:8080/"
        },
        "id": "oAE7kD0UQ4kQ",
        "outputId": "20dc9a8b-2670-469b-d005-0d8ec36e4713"
      },
      "execution_count": null,
      "outputs": [
        {
          "output_type": "execute_result",
          "data": {
            "text/plain": [
              "tensor([ 0.1781, -0.1781])"
            ]
          },
          "metadata": {},
          "execution_count": 26
        }
      ]
    },
    {
      "cell_type": "code",
      "source": [
        "model = nn.Sequential(\n",
        "    nn.Linear(2, 2),\n",
        "    nn.Tanh(),\n",
        "    nn.Linear(2, 1),\n",
        "    nn.Sigmoid()\n",
        ")"
      ],
      "metadata": {
        "id": "-_XG6hl_W_DU"
      },
      "execution_count": null,
      "outputs": []
    },
    {
      "cell_type": "code",
      "source": [
        "summary(model, (1, 2))"
      ],
      "metadata": {
        "colab": {
          "base_uri": "https://localhost:8080/"
        },
        "id": "xcW--tEzXG4v",
        "outputId": "17a8231d-fe85-4b4d-bdf1-99e8257f7c88"
      },
      "execution_count": null,
      "outputs": [
        {
          "output_type": "stream",
          "name": "stdout",
          "text": [
            "----------------------------------------------------------------\n",
            "        Layer (type)               Output Shape         Param #\n",
            "================================================================\n",
            "            Linear-1                 [-1, 1, 2]               6\n",
            "              Tanh-2                 [-1, 1, 2]               0\n",
            "            Linear-3                 [-1, 1, 1]               3\n",
            "           Sigmoid-4                 [-1, 1, 1]               0\n",
            "================================================================\n",
            "Total params: 9\n",
            "Trainable params: 9\n",
            "Non-trainable params: 0\n",
            "----------------------------------------------------------------\n",
            "Input size (MB): 0.00\n",
            "Forward/backward pass size (MB): 0.00\n",
            "Params size (MB): 0.00\n",
            "Estimated Total Size (MB): 0.00\n",
            "----------------------------------------------------------------\n"
          ]
        }
      ]
    },
    {
      "cell_type": "code",
      "source": [
        "import torch.nn as nn\n",
        "\n",
        "act = nn.ReLU()\n",
        "input = torch.tensor([0.18, -0.18])\n",
        "act(input)"
      ],
      "metadata": {
        "colab": {
          "base_uri": "https://localhost:8080/"
        },
        "id": "z87aV3_4Q8_V",
        "outputId": "299aa438-b254-4f75-a9c5-204d7a898c03"
      },
      "execution_count": null,
      "outputs": [
        {
          "output_type": "execute_result",
          "data": {
            "text/plain": [
              "tensor([0.1800, 0.0000])"
            ]
          },
          "metadata": {},
          "execution_count": 28
        }
      ]
    },
    {
      "cell_type": "code",
      "source": [
        "model = nn.Sequential(\n",
        "    nn.Linear(2, 2),\n",
        "    nn.ReLU(),\n",
        "    nn.Linear(2, 1),\n",
        "    nn.Sigmoid()\n",
        ")"
      ],
      "metadata": {
        "id": "95TlMx4bXK2H"
      },
      "execution_count": null,
      "outputs": []
    },
    {
      "cell_type": "code",
      "source": [
        "summary(model, (1, 2))"
      ],
      "metadata": {
        "colab": {
          "base_uri": "https://localhost:8080/"
        },
        "id": "N91hWPRYXPNk",
        "outputId": "97d952d2-7efc-410e-84d1-3b21b354e87b"
      },
      "execution_count": null,
      "outputs": [
        {
          "output_type": "stream",
          "name": "stdout",
          "text": [
            "----------------------------------------------------------------\n",
            "        Layer (type)               Output Shape         Param #\n",
            "================================================================\n",
            "            Linear-1                 [-1, 1, 2]               6\n",
            "              ReLU-2                 [-1, 1, 2]               0\n",
            "            Linear-3                 [-1, 1, 1]               3\n",
            "           Sigmoid-4                 [-1, 1, 1]               0\n",
            "================================================================\n",
            "Total params: 9\n",
            "Trainable params: 9\n",
            "Non-trainable params: 0\n",
            "----------------------------------------------------------------\n",
            "Input size (MB): 0.00\n",
            "Forward/backward pass size (MB): 0.00\n",
            "Params size (MB): 0.00\n",
            "Estimated Total Size (MB): 0.00\n",
            "----------------------------------------------------------------\n"
          ]
        }
      ]
    },
    {
      "cell_type": "markdown",
      "source": [
        "**Loss**"
      ],
      "metadata": {
        "id": "mGG6DEArTPOD"
      }
    },
    {
      "cell_type": "code",
      "source": [
        "import torch.nn as nn\n",
        "loss_fn = nn.BCELoss()"
      ],
      "metadata": {
        "id": "R4wt3YK-slZY"
      },
      "execution_count": null,
      "outputs": []
    },
    {
      "cell_type": "code",
      "source": [
        "y_pred"
      ],
      "metadata": {
        "colab": {
          "base_uri": "https://localhost:8080/"
        },
        "id": "KJGHrIjaU_jP",
        "outputId": "7fe1bc57-ebce-4355-add2-1d1953bc22bf"
      },
      "execution_count": null,
      "outputs": [
        {
          "output_type": "execute_result",
          "data": {
            "text/plain": [
              "tensor([0.5449], grad_fn=<SigmoidBackward0>)"
            ]
          },
          "metadata": {},
          "execution_count": 35
        }
      ]
    },
    {
      "cell_type": "code",
      "source": [
        "y"
      ],
      "metadata": {
        "colab": {
          "base_uri": "https://localhost:8080/"
        },
        "id": "o_kV3M4bVBBW",
        "outputId": "f365352b-1b83-4a82-f18c-feba2abc0d49"
      },
      "execution_count": null,
      "outputs": [
        {
          "output_type": "execute_result",
          "data": {
            "text/plain": [
              "tensor([0.])"
            ]
          },
          "metadata": {},
          "execution_count": 36
        }
      ]
    },
    {
      "cell_type": "code",
      "source": [
        "loss = loss_fn(y_pred, y)\n",
        "loss"
      ],
      "metadata": {
        "colab": {
          "base_uri": "https://localhost:8080/"
        },
        "id": "HjGPvMCestTw",
        "outputId": "dfc23e1e-7c3a-4f62-a51e-fa1692c6964b"
      },
      "execution_count": null,
      "outputs": [
        {
          "output_type": "execute_result",
          "data": {
            "text/plain": [
              "tensor(0.7872, grad_fn=<BinaryCrossEntropyBackward0>)"
            ]
          },
          "metadata": {},
          "execution_count": 37
        }
      ]
    },
    {
      "cell_type": "code",
      "source": [
        "for layer in model.children():\n",
        "    print(layer.state_dict())"
      ],
      "metadata": {
        "colab": {
          "base_uri": "https://localhost:8080/"
        },
        "id": "2k1IcFyMW6zr",
        "outputId": "5cf96761-9140-4cd3-d382-374c79d6b223"
      },
      "execution_count": null,
      "outputs": [
        {
          "output_type": "stream",
          "name": "stdout",
          "text": [
            "OrderedDict([('weight', tensor([[0.1000, 0.1000],\n",
            "        [0.1000, 0.1000]])), ('bias', tensor([0.1000, 0.1000]))])\n",
            "OrderedDict()\n",
            "OrderedDict([('weight', tensor([[0.1000, 0.1000],\n",
            "        [0.1000, 0.1000]])), ('bias', tensor([0.1000, 0.1000]))])\n"
          ]
        }
      ]
    },
    {
      "cell_type": "code",
      "source": [
        "learning_rate = 0.1\n",
        "optimizer = optim.SGD(model.parameters(), learning_rate)"
      ],
      "metadata": {
        "id": "e7pDQoVw0WAT"
      },
      "execution_count": null,
      "outputs": []
    },
    {
      "cell_type": "code",
      "source": [
        "loss.backward()"
      ],
      "metadata": {
        "id": "Ihj22f8800S9"
      },
      "execution_count": null,
      "outputs": []
    },
    {
      "cell_type": "code",
      "source": [
        "optimizer.step()"
      ],
      "metadata": {
        "id": "kHRiR-LD01dB"
      },
      "execution_count": null,
      "outputs": []
    },
    {
      "cell_type": "code",
      "source": [
        "for layer in model.children():\n",
        "    print(layer.state_dict())"
      ],
      "metadata": {
        "colab": {
          "base_uri": "https://localhost:8080/"
        },
        "id": "xV0I5Zzl04qE",
        "outputId": "8f53e717-02e2-45ee-a12a-8b2d3a518188"
      },
      "execution_count": null,
      "outputs": [
        {
          "output_type": "stream",
          "name": "stdout",
          "text": [
            "OrderedDict([('weight', tensor([[0.0946, 0.0891],\n",
            "        [0.0946, 0.0891]])), ('bias', tensor([0.0946, 0.0946]))])\n",
            "OrderedDict([('weight', tensor([[0.0782, 0.0782]])), ('bias', tensor([0.0455]))])\n",
            "OrderedDict()\n"
          ]
        }
      ]
    },
    {
      "cell_type": "markdown",
      "source": [
        "###CrossEntropyLoss"
      ],
      "metadata": {
        "id": "Q1Pmzaa8_LF2"
      }
    },
    {
      "cell_type": "code",
      "source": [
        "x = torch.tensor([1.0, 2.0])\n",
        "y = torch.tensor(0)"
      ],
      "metadata": {
        "id": "KMy_J_8XAxXD"
      },
      "execution_count": null,
      "outputs": []
    },
    {
      "cell_type": "code",
      "source": [
        "model = nn.Sequential(\n",
        "    nn.Linear(2, 2),\n",
        "    nn.ReLU(),\n",
        "    nn.Linear(2, 2),\n",
        ")"
      ],
      "metadata": {
        "id": "ymrGtDor_N3h"
      },
      "execution_count": null,
      "outputs": []
    },
    {
      "cell_type": "code",
      "source": [
        "print(model)"
      ],
      "metadata": {
        "colab": {
          "base_uri": "https://localhost:8080/"
        },
        "id": "U09rh_r8_Tg6",
        "outputId": "02eb1df7-13bd-4db9-b3bc-e5959679dc7d"
      },
      "execution_count": null,
      "outputs": [
        {
          "output_type": "stream",
          "name": "stdout",
          "text": [
            "Sequential(\n",
            "  (0): Linear(in_features=2, out_features=2, bias=True)\n",
            "  (1): ReLU()\n",
            "  (2): Linear(in_features=2, out_features=2, bias=True)\n",
            ")\n"
          ]
        }
      ]
    },
    {
      "cell_type": "code",
      "source": [
        "summary(model, (1, 2))"
      ],
      "metadata": {
        "colab": {
          "base_uri": "https://localhost:8080/"
        },
        "id": "UX2P9I-N_Wnb",
        "outputId": "0f4b0a47-5e85-4455-8d33-e2d5afb5fb8b"
      },
      "execution_count": null,
      "outputs": [
        {
          "output_type": "stream",
          "name": "stdout",
          "text": [
            "----------------------------------------------------------------\n",
            "        Layer (type)               Output Shape         Param #\n",
            "================================================================\n",
            "            Linear-1                 [-1, 1, 2]               6\n",
            "              ReLU-2                 [-1, 1, 2]               0\n",
            "            Linear-3                 [-1, 1, 2]               6\n",
            "================================================================\n",
            "Total params: 12\n",
            "Trainable params: 12\n",
            "Non-trainable params: 0\n",
            "----------------------------------------------------------------\n",
            "Input size (MB): 0.00\n",
            "Forward/backward pass size (MB): 0.00\n",
            "Params size (MB): 0.00\n",
            "Estimated Total Size (MB): 0.00\n",
            "----------------------------------------------------------------\n"
          ]
        }
      ]
    },
    {
      "cell_type": "code",
      "source": [
        "y_pred = model(x)\n",
        "y_pred"
      ],
      "metadata": {
        "colab": {
          "base_uri": "https://localhost:8080/"
        },
        "id": "tfkD1a2y_fkz",
        "outputId": "ddc385e7-b3b0-435d-e23b-7358655d807a"
      },
      "execution_count": null,
      "outputs": [
        {
          "output_type": "execute_result",
          "data": {
            "text/plain": [
              "tensor([0.0580, 0.4275], grad_fn=<AddBackward0>)"
            ]
          },
          "metadata": {},
          "execution_count": 42
        }
      ]
    },
    {
      "cell_type": "code",
      "source": [
        "import torch.nn as nn\n",
        "loss_fn = nn.CrossEntropyLoss()"
      ],
      "metadata": {
        "id": "JMsinHSl_ojo"
      },
      "execution_count": null,
      "outputs": []
    },
    {
      "cell_type": "code",
      "source": [
        "y = torch.tensor(0)\n",
        "y"
      ],
      "metadata": {
        "colab": {
          "base_uri": "https://localhost:8080/"
        },
        "id": "LeONyWMz_uB4",
        "outputId": "469dda01-6757-425c-8245-7f8132e1264b"
      },
      "execution_count": null,
      "outputs": [
        {
          "output_type": "execute_result",
          "data": {
            "text/plain": [
              "tensor(0)"
            ]
          },
          "metadata": {},
          "execution_count": 44
        }
      ]
    },
    {
      "cell_type": "code",
      "source": [
        "y_pred"
      ],
      "metadata": {
        "colab": {
          "base_uri": "https://localhost:8080/"
        },
        "id": "GmvthVAH_9_N",
        "outputId": "15b62c29-a772-4938-fbf9-98f2d1b040e2"
      },
      "execution_count": null,
      "outputs": [
        {
          "output_type": "execute_result",
          "data": {
            "text/plain": [
              "tensor([0.0580, 0.4275], grad_fn=<AddBackward0>)"
            ]
          },
          "metadata": {},
          "execution_count": 45
        }
      ]
    },
    {
      "cell_type": "code",
      "source": [
        "loss_fn(y_pred, y)"
      ],
      "metadata": {
        "colab": {
          "base_uri": "https://localhost:8080/"
        },
        "id": "gfIujA5G_pe4",
        "outputId": "63930e3c-522e-4b66-8ea1-702c62ad2310"
      },
      "execution_count": null,
      "outputs": [
        {
          "output_type": "execute_result",
          "data": {
            "text/plain": [
              "tensor(0.8949, grad_fn=<NllLossBackward0>)"
            ]
          },
          "metadata": {},
          "execution_count": 46
        }
      ]
    },
    {
      "cell_type": "markdown",
      "source": [
        "##2.Classification"
      ],
      "metadata": {
        "id": "diE_R78z_YRO"
      }
    },
    {
      "cell_type": "code",
      "source": [
        "from sklearn.datasets import load_iris\n",
        "from sklearn.model_selection import train_test_split"
      ],
      "metadata": {
        "id": "nHLIzzZV2szS"
      },
      "execution_count": null,
      "outputs": []
    },
    {
      "cell_type": "code",
      "source": [
        "data = load_iris()"
      ],
      "metadata": {
        "id": "zhszekVP2ujW"
      },
      "execution_count": null,
      "outputs": []
    },
    {
      "cell_type": "code",
      "source": [
        "data.data.shape"
      ],
      "metadata": {
        "colab": {
          "base_uri": "https://localhost:8080/"
        },
        "id": "BSy1DfIg2wJG",
        "outputId": "0ff3966c-a786-4bd0-ce03-dd3ddf16f906"
      },
      "execution_count": null,
      "outputs": [
        {
          "output_type": "execute_result",
          "data": {
            "text/plain": [
              "(150, 4)"
            ]
          },
          "metadata": {},
          "execution_count": 4
        }
      ]
    },
    {
      "cell_type": "code",
      "source": [
        "data.target.shape"
      ],
      "metadata": {
        "colab": {
          "base_uri": "https://localhost:8080/"
        },
        "id": "wGJO8N7v2066",
        "outputId": "e9917e1d-0253-434f-d4d8-aa4da4ca2770"
      },
      "execution_count": null,
      "outputs": [
        {
          "output_type": "execute_result",
          "data": {
            "text/plain": [
              "(150,)"
            ]
          },
          "metadata": {},
          "execution_count": 5
        }
      ]
    },
    {
      "cell_type": "code",
      "source": [
        "X_train, X_test, Y_train, Y_test = train_test_split(\n",
        "    data.data,\n",
        "    data.target,\n",
        "    test_size=0.3\n",
        ")"
      ],
      "metadata": {
        "id": "UnqkcdC1284t"
      },
      "execution_count": null,
      "outputs": []
    },
    {
      "cell_type": "code",
      "source": [
        "from sklearn.preprocessing import StandardScaler"
      ],
      "metadata": {
        "id": "AV7jZZPuQACX"
      },
      "execution_count": null,
      "outputs": []
    },
    {
      "cell_type": "code",
      "source": [
        "scaler = StandardScaler()"
      ],
      "metadata": {
        "id": "iOkxNr2LQDC2"
      },
      "execution_count": null,
      "outputs": []
    },
    {
      "cell_type": "code",
      "source": [
        "scaler.fit(X_train)"
      ],
      "metadata": {
        "colab": {
          "base_uri": "https://localhost:8080/",
          "height": 74
        },
        "id": "K1PPjtWmQHTs",
        "outputId": "b043ce24-421b-4bdc-de7c-60e0a18ede4a"
      },
      "execution_count": null,
      "outputs": [
        {
          "output_type": "execute_result",
          "data": {
            "text/plain": [
              "StandardScaler()"
            ],
            "text/html": [
              "<style>#sk-container-id-2 {color: black;background-color: white;}#sk-container-id-2 pre{padding: 0;}#sk-container-id-2 div.sk-toggleable {background-color: white;}#sk-container-id-2 label.sk-toggleable__label {cursor: pointer;display: block;width: 100%;margin-bottom: 0;padding: 0.3em;box-sizing: border-box;text-align: center;}#sk-container-id-2 label.sk-toggleable__label-arrow:before {content: \"▸\";float: left;margin-right: 0.25em;color: #696969;}#sk-container-id-2 label.sk-toggleable__label-arrow:hover:before {color: black;}#sk-container-id-2 div.sk-estimator:hover label.sk-toggleable__label-arrow:before {color: black;}#sk-container-id-2 div.sk-toggleable__content {max-height: 0;max-width: 0;overflow: hidden;text-align: left;background-color: #f0f8ff;}#sk-container-id-2 div.sk-toggleable__content pre {margin: 0.2em;color: black;border-radius: 0.25em;background-color: #f0f8ff;}#sk-container-id-2 input.sk-toggleable__control:checked~div.sk-toggleable__content {max-height: 200px;max-width: 100%;overflow: auto;}#sk-container-id-2 input.sk-toggleable__control:checked~label.sk-toggleable__label-arrow:before {content: \"▾\";}#sk-container-id-2 div.sk-estimator input.sk-toggleable__control:checked~label.sk-toggleable__label {background-color: #d4ebff;}#sk-container-id-2 div.sk-label input.sk-toggleable__control:checked~label.sk-toggleable__label {background-color: #d4ebff;}#sk-container-id-2 input.sk-hidden--visually {border: 0;clip: rect(1px 1px 1px 1px);clip: rect(1px, 1px, 1px, 1px);height: 1px;margin: -1px;overflow: hidden;padding: 0;position: absolute;width: 1px;}#sk-container-id-2 div.sk-estimator {font-family: monospace;background-color: #f0f8ff;border: 1px dotted black;border-radius: 0.25em;box-sizing: border-box;margin-bottom: 0.5em;}#sk-container-id-2 div.sk-estimator:hover {background-color: #d4ebff;}#sk-container-id-2 div.sk-parallel-item::after {content: \"\";width: 100%;border-bottom: 1px solid gray;flex-grow: 1;}#sk-container-id-2 div.sk-label:hover label.sk-toggleable__label {background-color: #d4ebff;}#sk-container-id-2 div.sk-serial::before {content: \"\";position: absolute;border-left: 1px solid gray;box-sizing: border-box;top: 0;bottom: 0;left: 50%;z-index: 0;}#sk-container-id-2 div.sk-serial {display: flex;flex-direction: column;align-items: center;background-color: white;padding-right: 0.2em;padding-left: 0.2em;position: relative;}#sk-container-id-2 div.sk-item {position: relative;z-index: 1;}#sk-container-id-2 div.sk-parallel {display: flex;align-items: stretch;justify-content: center;background-color: white;position: relative;}#sk-container-id-2 div.sk-item::before, #sk-container-id-2 div.sk-parallel-item::before {content: \"\";position: absolute;border-left: 1px solid gray;box-sizing: border-box;top: 0;bottom: 0;left: 50%;z-index: -1;}#sk-container-id-2 div.sk-parallel-item {display: flex;flex-direction: column;z-index: 1;position: relative;background-color: white;}#sk-container-id-2 div.sk-parallel-item:first-child::after {align-self: flex-end;width: 50%;}#sk-container-id-2 div.sk-parallel-item:last-child::after {align-self: flex-start;width: 50%;}#sk-container-id-2 div.sk-parallel-item:only-child::after {width: 0;}#sk-container-id-2 div.sk-dashed-wrapped {border: 1px dashed gray;margin: 0 0.4em 0.5em 0.4em;box-sizing: border-box;padding-bottom: 0.4em;background-color: white;}#sk-container-id-2 div.sk-label label {font-family: monospace;font-weight: bold;display: inline-block;line-height: 1.2em;}#sk-container-id-2 div.sk-label-container {text-align: center;}#sk-container-id-2 div.sk-container {/* jupyter's `normalize.less` sets `[hidden] { display: none; }` but bootstrap.min.css set `[hidden] { display: none !important; }` so we also need the `!important` here to be able to override the default hidden behavior on the sphinx rendered scikit-learn.org. See: https://github.com/scikit-learn/scikit-learn/issues/21755 */display: inline-block !important;position: relative;}#sk-container-id-2 div.sk-text-repr-fallback {display: none;}</style><div id=\"sk-container-id-2\" class=\"sk-top-container\"><div class=\"sk-text-repr-fallback\"><pre>StandardScaler()</pre><b>In a Jupyter environment, please rerun this cell to show the HTML representation or trust the notebook. <br />On GitHub, the HTML representation is unable to render, please try loading this page with nbviewer.org.</b></div><div class=\"sk-container\" hidden><div class=\"sk-item\"><div class=\"sk-estimator sk-toggleable\"><input class=\"sk-toggleable__control sk-hidden--visually\" id=\"sk-estimator-id-2\" type=\"checkbox\" checked><label for=\"sk-estimator-id-2\" class=\"sk-toggleable__label sk-toggleable__label-arrow\">StandardScaler</label><div class=\"sk-toggleable__content\"><pre>StandardScaler()</pre></div></div></div></div></div>"
            ]
          },
          "metadata": {},
          "execution_count": 14
        }
      ]
    },
    {
      "cell_type": "code",
      "source": [
        "X_train = scaler.transform(X_train)\n",
        "X_test = scaler.transform(X_test)"
      ],
      "metadata": {
        "id": "-PryqD25QPFH"
      },
      "execution_count": null,
      "outputs": []
    },
    {
      "cell_type": "code",
      "source": [
        "X_train"
      ],
      "metadata": {
        "colab": {
          "base_uri": "https://localhost:8080/"
        },
        "id": "LeuB2B_GQfVC",
        "outputId": "c2220c16-91fe-4d1d-be80-48e77e37fb56"
      },
      "execution_count": null,
      "outputs": [
        {
          "output_type": "execute_result",
          "data": {
            "text/plain": [
              "array([[ 0.71501041,  0.01132393,  1.04876467,  0.87015288],\n",
              "       [-0.86170883,  1.67594191, -1.12907069, -1.21821403],\n",
              "       [-1.10428102, -0.22647864, -1.24075456, -1.21821403],\n",
              "       [ 2.29172964, -0.22647864,  1.38381627,  1.52276754],\n",
              "       [ 1.07886869, -0.22647864,  0.88123888,  1.52276754],\n",
              "       [-0.86170883,  0.72473164, -1.18491262, -1.21821403],\n",
              "       [-0.98299492, -1.89109662, -0.17975784, -0.17403058],\n",
              "       [-0.86170883,  1.67594191, -0.96154489, -0.95716817],\n",
              "       [-0.61913664,  1.43813934, -1.18491262, -1.21821403],\n",
              "       [-1.22556711, -0.22647864, -1.24075456, -1.0876911 ],\n",
              "       [ 0.10857993, -0.22647864,  0.32281955,  0.47858408],\n",
              "       [-0.98299492,  1.20033677, -1.24075456, -1.21821403],\n",
              "       [-0.74042273,  0.96253421, -1.18491262, -1.21821403],\n",
              "       [-1.4681393 ,  0.72473164, -1.24075456, -1.0876911 ],\n",
              "       [-1.34685321,  0.2491265 , -1.29659649, -1.21821403],\n",
              "       [ 0.71501041, -0.46428121,  0.37866148,  0.21753822],\n",
              "       [-0.74042273,  2.38934962, -1.18491262, -1.34873696],\n",
              "       [-0.86170883,  1.43813934, -1.18491262, -0.95716817],\n",
              "       [ 0.10857993,  0.2491265 ,  0.65787115,  0.87015288],\n",
              "       [-0.01270616, -0.70208377,  0.82539694,  1.65329047],\n",
              "       [ 0.8362965 , -0.22647864,  0.88123888,  1.13119874],\n",
              "       [-1.22556711, -0.22647864, -1.24075456, -1.34873696],\n",
              "       [ 0.59372431,  0.72473164,  1.10460661,  1.65329047],\n",
              "       [-1.10428102,  0.01132393, -1.18491262, -1.21821403],\n",
              "       [-0.86170883,  1.67594191, -1.18491262, -1.0876911 ],\n",
              "       [ 1.07886869, -0.22647864,  0.76955501,  0.73962995],\n",
              "       [-0.01270616,  2.15154705, -1.35243842, -1.21821403],\n",
              "       [-1.4681393 ,  0.2491265 , -1.24075456, -1.21821403],\n",
              "       [ 1.68529917, -0.22647864,  1.21629047,  0.60910702],\n",
              "       [-0.37656445, -1.17768891,  0.43450342,  0.08701529],\n",
              "       [-0.25527835, -0.46428121, -0.01223204,  0.21753822],\n",
              "       [-1.71071149, -0.22647864, -1.29659649, -1.21821403],\n",
              "       [ 1.32144088,  0.01132393,  0.71371308,  0.47858408],\n",
              "       [-0.13399226, -1.41549148,  0.76955501,  1.13119874],\n",
              "       [-0.01270616, -0.93988634,  0.26697762, -0.17403058],\n",
              "       [ 1.07886869,  0.48692907,  1.16044854,  1.78381341],\n",
              "       [ 0.35115212, -0.70208377,  0.60202921,  0.08701529],\n",
              "       [-0.13399226,  1.67594191, -1.07322876, -1.0876911 ],\n",
              "       [ 1.80658526, -0.46428121,  1.49550013,  0.87015288],\n",
              "       [-1.4681393 ,  0.01132393, -1.18491262, -1.21821403],\n",
              "       [ 0.35115212, -1.17768891,  1.10460661,  0.34806115],\n",
              "       [-0.25527835, -1.41549148,  0.15529375, -0.04350764],\n",
              "       [ 0.71501041, -0.70208377,  1.10460661,  1.39224461],\n",
              "       [ 1.32144088,  0.01132393,  0.99292274,  1.26172168],\n",
              "       [-0.74042273,  0.72473164, -1.24075456, -1.21821403],\n",
              "       [-0.98299492, -0.22647864, -1.12907069, -1.21821403],\n",
              "       [ 0.22986603, -0.93988634,  0.82539694,  0.60910702],\n",
              "       [-0.13399226,  3.10275732, -1.18491262, -0.95716817],\n",
              "       [-0.25527835, -0.93988634,  0.32281955,  0.21753822],\n",
              "       [ 1.44272698,  0.2491265 ,  0.60202921,  0.34806115],\n",
              "       [-0.98299492,  0.2491265 , -1.35243842, -1.21821403],\n",
              "       [ 0.59372431, -1.41549148,  0.76955501,  1.00067581],\n",
              "       [-1.4681393 ,  1.20033677, -1.46412229, -1.21821403],\n",
              "       [ 0.71501041, -0.70208377,  1.10460661,  1.26172168],\n",
              "       [ 0.35115212, -0.46428121,  0.60202921,  0.34806115],\n",
              "       [ 0.8362965 , -0.22647864,  1.04876467,  0.87015288],\n",
              "       [-0.13399226, -0.22647864,  0.32281955,  0.08701529],\n",
              "       [ 1.20015479, -0.22647864,  1.04876467,  1.26172168],\n",
              "       [ 0.47243822,  0.72473164,  0.99292274,  1.52276754],\n",
              "       [ 1.56401307, -0.22647864,  1.2721324 ,  1.26172168],\n",
              "       [-0.49785054,  0.72473164, -1.07322876, -1.21821403],\n",
              "       [-0.37656445, -1.65329405,  0.04360989, -0.17403058],\n",
              "       [-1.10428102,  1.20033677, -1.24075456, -1.34873696],\n",
              "       [-0.98299492,  0.96253421, -1.12907069, -0.6961223 ],\n",
              "       [-0.98299492,  0.72473164, -1.18491262, -1.21821403],\n",
              "       [-0.98299492,  0.96253421, -1.29659649, -1.0876911 ],\n",
              "       [ 1.20015479, -0.70208377,  0.65787115,  0.34806115],\n",
              "       [-0.13399226, -0.70208377,  0.26697762,  0.21753822],\n",
              "       [-1.22556711,  0.72473164, -1.12907069, -1.21821403],\n",
              "       [-0.98299492,  0.72473164, -1.12907069, -0.95716817],\n",
              "       [ 0.35115212, -0.22647864,  0.71371308,  0.87015288],\n",
              "       [ 2.17044355, -0.22647864,  1.66302593,  1.26172168],\n",
              "       [ 2.29172964, -0.70208377,  1.71886786,  1.13119874],\n",
              "       [ 0.8362965 , -0.70208377,  0.54618728,  0.47858408],\n",
              "       [-0.37656445, -1.89109662,  0.21113569,  0.21753822],\n",
              "       [-0.49785054,  1.91374448, -1.29659649, -0.95716817],\n",
              "       [ 1.32144088,  0.2491265 ,  1.16044854,  1.52276754],\n",
              "       [-0.86170883,  0.96253421, -1.24075456, -1.21821403],\n",
              "       [-0.86170883,  0.96253421, -1.24075456, -1.0876911 ],\n",
              "       [-0.49785054,  1.43813934, -1.18491262, -1.21821403],\n",
              "       [-0.25527835, -0.22647864,  0.26697762,  0.21753822],\n",
              "       [-0.49785054, -0.22647864,  0.49034535,  0.47858408],\n",
              "       [ 0.22986603, -0.46428121,  0.49034535,  0.47858408],\n",
              "       [-0.98299492,  0.48692907, -1.24075456, -1.21821403],\n",
              "       [ 1.07886869, -1.41549148,  1.21629047,  0.87015288],\n",
              "       [ 2.29172964,  1.67594191,  1.71886786,  1.39224461],\n",
              "       [ 1.07886869,  0.01132393,  0.60202921,  0.47858408],\n",
              "       [ 1.07886869,  0.01132393,  1.10460661,  1.65329047],\n",
              "       [ 0.71501041,  0.2491265 ,  0.49034535,  0.47858408],\n",
              "       [ 1.07886869,  0.01132393,  0.43450342,  0.34806115],\n",
              "       [ 0.22986603, -2.12889918,  0.21113569, -0.17403058],\n",
              "       [ 0.8362965 ,  0.2491265 ,  0.82539694,  1.13119874],\n",
              "       [-1.71071149,  0.2491265 , -1.29659649, -1.21821403],\n",
              "       [-0.37656445, -1.41549148,  0.21113569,  0.21753822],\n",
              "       [-0.13399226, -1.17768891, -0.06807397, -0.17403058],\n",
              "       [-1.10428102, -1.41549148,  0.49034535,  0.73962995],\n",
              "       [-0.01270616, -1.17768891,  0.21113569,  0.08701529],\n",
              "       [-0.74042273, -0.93988634,  0.15529375,  0.34806115],\n",
              "       [-1.10428102,  0.01132393, -1.18491262, -1.34873696],\n",
              "       [-0.01270616, -0.93988634,  0.15529375,  0.08701529],\n",
              "       [ 1.92787136, -0.70208377,  1.38381627,  1.00067581],\n",
              "       [ 0.59372431, -0.70208377,  0.82539694,  0.47858408],\n",
              "       [-0.37656445, -1.65329405,  0.09945182, -0.04350764],\n",
              "       [ 1.07886869,  0.48692907,  1.16044854,  1.26172168],\n",
              "       [ 0.10857993, -0.22647864,  0.82539694,  0.87015288]])"
            ]
          },
          "metadata": {},
          "execution_count": 16
        }
      ]
    },
    {
      "cell_type": "code",
      "source": [
        "X_test"
      ],
      "metadata": {
        "colab": {
          "base_uri": "https://localhost:8080/"
        },
        "id": "JfbDpAytQhEI",
        "outputId": "213ddd07-e754-45dd-a251-0d8991b9c517"
      },
      "execution_count": null,
      "outputs": [
        {
          "output_type": "execute_result",
          "data": {
            "text/plain": [
              "array([[ 0.9575826 , -0.22647864,  0.43450342,  0.34806115],\n",
              "       [ 1.20015479,  0.2491265 ,  1.2721324 ,  1.52276754],\n",
              "       [ 0.59372431,  0.48692907,  0.60202921,  0.60910702],\n",
              "       [ 0.35115212, -0.70208377,  0.21113569,  0.21753822],\n",
              "       [-0.25527835, -0.22647864,  0.49034535,  0.47858408],\n",
              "       [-0.13399226, -0.46428121,  0.32281955,  0.21753822],\n",
              "       [-0.13399226, -0.70208377,  0.49034535,  0.21753822],\n",
              "       [ 2.53430183,  1.67594191,  1.55134207,  1.13119874],\n",
              "       [ 1.68529917,  0.2491265 ,  1.32797434,  0.87015288],\n",
              "       [-0.37656445,  2.62715218, -1.24075456, -1.21821403],\n",
              "       [ 0.22986603, -2.12889918,  0.76955501,  0.47858408],\n",
              "       [-1.83199759, -0.22647864, -1.40828035, -1.34873696],\n",
              "       [-0.25527835, -0.70208377,  0.71371308,  1.13119874],\n",
              "       [-1.22556711,  0.72473164, -0.96154489, -1.21821403],\n",
              "       [ 0.59372431, -0.46428121,  1.10460661,  0.87015288],\n",
              "       [-0.86170883,  0.48692907, -1.07322876, -0.82664524],\n",
              "       [ 2.29172964, -1.17768891,  1.83055173,  1.52276754],\n",
              "       [ 0.47243822, -0.46428121,  0.37866148,  0.21753822],\n",
              "       [ 1.68529917,  1.20033677,  1.38381627,  1.78381341],\n",
              "       [ 1.32144088,  0.01132393,  0.82539694,  1.52276754],\n",
              "       [ 0.59372431, -1.89109662,  0.43450342,  0.21753822],\n",
              "       [-1.71071149, -0.46428121, -1.24075456, -1.21821403],\n",
              "       [ 0.22986603, -0.22647864,  0.65787115,  0.87015288],\n",
              "       [ 0.8362965 , -0.22647864,  1.21629047,  1.39224461],\n",
              "       [ 0.59372431,  0.48692907,  1.32797434,  1.78381341],\n",
              "       [-1.22556711,  0.01132393, -1.12907069, -1.21821403],\n",
              "       [ 0.9575826 , -0.46428121,  0.54618728,  0.21753822],\n",
              "       [-1.10428102, -1.65329405, -0.17975784, -0.17403058],\n",
              "       [ 0.71501041,  0.2491265 ,  0.93708081,  1.52276754],\n",
              "       [-0.37656445,  0.96253421, -1.29659649, -1.21821403],\n",
              "       [-0.86170883, -1.41549148, -0.34728364, -0.04350764],\n",
              "       [ 0.59372431, -0.93988634,  0.71371308,  0.87015288],\n",
              "       [-1.5894254 , -1.89109662, -1.29659649, -1.0876911 ],\n",
              "       [-0.49785054,  1.91374448, -1.07322876, -0.95716817],\n",
              "       [ 0.47243822, -2.12889918,  0.49034535,  0.47858408],\n",
              "       [-0.49785054,  0.72473164, -1.18491262, -0.95716817],\n",
              "       [-0.01270616, -0.93988634,  0.82539694,  1.00067581],\n",
              "       [-0.98299492, -2.60450432, -0.06807397, -0.17403058],\n",
              "       [ 0.71501041, -0.93988634,  0.93708081,  1.00067581],\n",
              "       [ 0.59372431, -1.41549148,  0.71371308,  0.47858408],\n",
              "       [-1.34685321,  0.2491265 , -1.12907069, -1.21821403],\n",
              "       [ 0.35115212, -0.22647864,  0.54618728,  0.34806115],\n",
              "       [ 0.22986603,  0.72473164,  0.49034535,  0.60910702],\n",
              "       [ 0.47243822, -0.70208377,  0.65787115,  0.87015288],\n",
              "       [-0.01270616, -0.93988634,  0.82539694,  1.00067581]])"
            ]
          },
          "metadata": {},
          "execution_count": 17
        }
      ]
    },
    {
      "cell_type": "code",
      "source": [
        "X_train = torch.tensor(X_train, dtype=torch.float32)\n",
        "Y_train = torch.tensor(Y_train)\n",
        "X_test = torch.tensor(X_test, dtype=torch.float32)\n",
        "Y_test = torch.tensor(Y_test)"
      ],
      "metadata": {
        "id": "691E0xBA3QM6"
      },
      "execution_count": null,
      "outputs": []
    },
    {
      "cell_type": "code",
      "source": [
        "X_train"
      ],
      "metadata": {
        "colab": {
          "base_uri": "https://localhost:8080/"
        },
        "id": "qzWIyGsO3ZOQ",
        "outputId": "87e640fe-51c1-4b1c-b1e6-84ea4aacb5ce"
      },
      "execution_count": null,
      "outputs": [
        {
          "output_type": "execute_result",
          "data": {
            "text/plain": [
              "tensor([[ 0.7150,  0.0113,  1.0488,  0.8702],\n",
              "        [-0.8617,  1.6759, -1.1291, -1.2182],\n",
              "        [-1.1043, -0.2265, -1.2408, -1.2182],\n",
              "        [ 2.2917, -0.2265,  1.3838,  1.5228],\n",
              "        [ 1.0789, -0.2265,  0.8812,  1.5228],\n",
              "        [-0.8617,  0.7247, -1.1849, -1.2182],\n",
              "        [-0.9830, -1.8911, -0.1798, -0.1740],\n",
              "        [-0.8617,  1.6759, -0.9615, -0.9572],\n",
              "        [-0.6191,  1.4381, -1.1849, -1.2182],\n",
              "        [-1.2256, -0.2265, -1.2408, -1.0877],\n",
              "        [ 0.1086, -0.2265,  0.3228,  0.4786],\n",
              "        [-0.9830,  1.2003, -1.2408, -1.2182],\n",
              "        [-0.7404,  0.9625, -1.1849, -1.2182],\n",
              "        [-1.4681,  0.7247, -1.2408, -1.0877],\n",
              "        [-1.3469,  0.2491, -1.2966, -1.2182],\n",
              "        [ 0.7150, -0.4643,  0.3787,  0.2175],\n",
              "        [-0.7404,  2.3893, -1.1849, -1.3487],\n",
              "        [-0.8617,  1.4381, -1.1849, -0.9572],\n",
              "        [ 0.1086,  0.2491,  0.6579,  0.8702],\n",
              "        [-0.0127, -0.7021,  0.8254,  1.6533],\n",
              "        [ 0.8363, -0.2265,  0.8812,  1.1312],\n",
              "        [-1.2256, -0.2265, -1.2408, -1.3487],\n",
              "        [ 0.5937,  0.7247,  1.1046,  1.6533],\n",
              "        [-1.1043,  0.0113, -1.1849, -1.2182],\n",
              "        [-0.8617,  1.6759, -1.1849, -1.0877],\n",
              "        [ 1.0789, -0.2265,  0.7696,  0.7396],\n",
              "        [-0.0127,  2.1515, -1.3524, -1.2182],\n",
              "        [-1.4681,  0.2491, -1.2408, -1.2182],\n",
              "        [ 1.6853, -0.2265,  1.2163,  0.6091],\n",
              "        [-0.3766, -1.1777,  0.4345,  0.0870],\n",
              "        [-0.2553, -0.4643, -0.0122,  0.2175],\n",
              "        [-1.7107, -0.2265, -1.2966, -1.2182],\n",
              "        [ 1.3214,  0.0113,  0.7137,  0.4786],\n",
              "        [-0.1340, -1.4155,  0.7696,  1.1312],\n",
              "        [-0.0127, -0.9399,  0.2670, -0.1740],\n",
              "        [ 1.0789,  0.4869,  1.1604,  1.7838],\n",
              "        [ 0.3512, -0.7021,  0.6020,  0.0870],\n",
              "        [-0.1340,  1.6759, -1.0732, -1.0877],\n",
              "        [ 1.8066, -0.4643,  1.4955,  0.8702],\n",
              "        [-1.4681,  0.0113, -1.1849, -1.2182],\n",
              "        [ 0.3512, -1.1777,  1.1046,  0.3481],\n",
              "        [-0.2553, -1.4155,  0.1553, -0.0435],\n",
              "        [ 0.7150, -0.7021,  1.1046,  1.3922],\n",
              "        [ 1.3214,  0.0113,  0.9929,  1.2617],\n",
              "        [-0.7404,  0.7247, -1.2408, -1.2182],\n",
              "        [-0.9830, -0.2265, -1.1291, -1.2182],\n",
              "        [ 0.2299, -0.9399,  0.8254,  0.6091],\n",
              "        [-0.1340,  3.1028, -1.1849, -0.9572],\n",
              "        [-0.2553, -0.9399,  0.3228,  0.2175],\n",
              "        [ 1.4427,  0.2491,  0.6020,  0.3481],\n",
              "        [-0.9830,  0.2491, -1.3524, -1.2182],\n",
              "        [ 0.5937, -1.4155,  0.7696,  1.0007],\n",
              "        [-1.4681,  1.2003, -1.4641, -1.2182],\n",
              "        [ 0.7150, -0.7021,  1.1046,  1.2617],\n",
              "        [ 0.3512, -0.4643,  0.6020,  0.3481],\n",
              "        [ 0.8363, -0.2265,  1.0488,  0.8702],\n",
              "        [-0.1340, -0.2265,  0.3228,  0.0870],\n",
              "        [ 1.2002, -0.2265,  1.0488,  1.2617],\n",
              "        [ 0.4724,  0.7247,  0.9929,  1.5228],\n",
              "        [ 1.5640, -0.2265,  1.2721,  1.2617],\n",
              "        [-0.4979,  0.7247, -1.0732, -1.2182],\n",
              "        [-0.3766, -1.6533,  0.0436, -0.1740],\n",
              "        [-1.1043,  1.2003, -1.2408, -1.3487],\n",
              "        [-0.9830,  0.9625, -1.1291, -0.6961],\n",
              "        [-0.9830,  0.7247, -1.1849, -1.2182],\n",
              "        [-0.9830,  0.9625, -1.2966, -1.0877],\n",
              "        [ 1.2002, -0.7021,  0.6579,  0.3481],\n",
              "        [-0.1340, -0.7021,  0.2670,  0.2175],\n",
              "        [-1.2256,  0.7247, -1.1291, -1.2182],\n",
              "        [-0.9830,  0.7247, -1.1291, -0.9572],\n",
              "        [ 0.3512, -0.2265,  0.7137,  0.8702],\n",
              "        [ 2.1704, -0.2265,  1.6630,  1.2617],\n",
              "        [ 2.2917, -0.7021,  1.7189,  1.1312],\n",
              "        [ 0.8363, -0.7021,  0.5462,  0.4786],\n",
              "        [-0.3766, -1.8911,  0.2111,  0.2175],\n",
              "        [-0.4979,  1.9137, -1.2966, -0.9572],\n",
              "        [ 1.3214,  0.2491,  1.1604,  1.5228],\n",
              "        [-0.8617,  0.9625, -1.2408, -1.2182],\n",
              "        [-0.8617,  0.9625, -1.2408, -1.0877],\n",
              "        [-0.4979,  1.4381, -1.1849, -1.2182],\n",
              "        [-0.2553, -0.2265,  0.2670,  0.2175],\n",
              "        [-0.4979, -0.2265,  0.4903,  0.4786],\n",
              "        [ 0.2299, -0.4643,  0.4903,  0.4786],\n",
              "        [-0.9830,  0.4869, -1.2408, -1.2182],\n",
              "        [ 1.0789, -1.4155,  1.2163,  0.8702],\n",
              "        [ 2.2917,  1.6759,  1.7189,  1.3922],\n",
              "        [ 1.0789,  0.0113,  0.6020,  0.4786],\n",
              "        [ 1.0789,  0.0113,  1.1046,  1.6533],\n",
              "        [ 0.7150,  0.2491,  0.4903,  0.4786],\n",
              "        [ 1.0789,  0.0113,  0.4345,  0.3481],\n",
              "        [ 0.2299, -2.1289,  0.2111, -0.1740],\n",
              "        [ 0.8363,  0.2491,  0.8254,  1.1312],\n",
              "        [-1.7107,  0.2491, -1.2966, -1.2182],\n",
              "        [-0.3766, -1.4155,  0.2111,  0.2175],\n",
              "        [-0.1340, -1.1777, -0.0681, -0.1740],\n",
              "        [-1.1043, -1.4155,  0.4903,  0.7396],\n",
              "        [-0.0127, -1.1777,  0.2111,  0.0870],\n",
              "        [-0.7404, -0.9399,  0.1553,  0.3481],\n",
              "        [-1.1043,  0.0113, -1.1849, -1.3487],\n",
              "        [-0.0127, -0.9399,  0.1553,  0.0870],\n",
              "        [ 1.9279, -0.7021,  1.3838,  1.0007],\n",
              "        [ 0.5937, -0.7021,  0.8254,  0.4786],\n",
              "        [-0.3766, -1.6533,  0.0995, -0.0435],\n",
              "        [ 1.0789,  0.4869,  1.1604,  1.2617],\n",
              "        [ 0.1086, -0.2265,  0.8254,  0.8702]])"
            ]
          },
          "metadata": {},
          "execution_count": 19
        }
      ]
    },
    {
      "cell_type": "code",
      "source": [
        "Y_train"
      ],
      "metadata": {
        "colab": {
          "base_uri": "https://localhost:8080/"
        },
        "id": "VVDJyaXt3cQM",
        "outputId": "e8352d59-c930-4560-edc2-00b492be25f2"
      },
      "execution_count": null,
      "outputs": [
        {
          "output_type": "execute_result",
          "data": {
            "text/plain": [
              "tensor([2, 0, 0, 2, 2, 0, 1, 0, 0, 0, 1, 0, 0, 0, 0, 1, 0, 0, 1, 2, 2, 0, 2, 0,\n",
              "        0, 1, 0, 0, 2, 1, 1, 0, 1, 2, 1, 2, 1, 0, 2, 0, 2, 1, 2, 2, 0, 0, 1, 0,\n",
              "        1, 1, 0, 2, 0, 2, 1, 2, 1, 2, 2, 2, 0, 1, 0, 0, 0, 0, 1, 1, 0, 0, 2, 2,\n",
              "        2, 1, 1, 0, 2, 0, 0, 0, 1, 1, 1, 0, 2, 2, 1, 2, 1, 1, 1, 2, 0, 1, 1, 2,\n",
              "        1, 1, 0, 1, 2, 2, 1, 2, 2])"
            ]
          },
          "metadata": {},
          "execution_count": 21
        }
      ]
    },
    {
      "cell_type": "code",
      "source": [
        "model_classifier = nn.Sequential(\n",
        "    nn.Linear(4, 8),\n",
        "    nn.ReLU(),\n",
        "    nn.Linear(8, 3)\n",
        ")"
      ],
      "metadata": {
        "id": "sCU9MDm43jmk"
      },
      "execution_count": null,
      "outputs": []
    },
    {
      "cell_type": "code",
      "source": [
        "model_classifier"
      ],
      "metadata": {
        "colab": {
          "base_uri": "https://localhost:8080/"
        },
        "id": "GdEARU3Q3wVI",
        "outputId": "90eefbde-8e98-44fe-abca-89e7926d274c"
      },
      "execution_count": null,
      "outputs": [
        {
          "output_type": "execute_result",
          "data": {
            "text/plain": [
              "Sequential(\n",
              "  (0): Linear(in_features=4, out_features=8, bias=True)\n",
              "  (1): ReLU()\n",
              "  (2): Linear(in_features=8, out_features=3, bias=True)\n",
              ")"
            ]
          },
          "metadata": {},
          "execution_count": 23
        }
      ]
    },
    {
      "cell_type": "code",
      "source": [
        "summary(model_classifier, (1, 4))"
      ],
      "metadata": {
        "colab": {
          "base_uri": "https://localhost:8080/"
        },
        "id": "cknQZodUQr94",
        "outputId": "7a0ce0b8-7a72-45d1-ec48-0926345c986b"
      },
      "execution_count": null,
      "outputs": [
        {
          "output_type": "stream",
          "name": "stdout",
          "text": [
            "----------------------------------------------------------------\n",
            "        Layer (type)               Output Shape         Param #\n",
            "================================================================\n",
            "            Linear-1                 [-1, 1, 8]              40\n",
            "              ReLU-2                 [-1, 1, 8]               0\n",
            "            Linear-3                 [-1, 1, 3]              27\n",
            "================================================================\n",
            "Total params: 67\n",
            "Trainable params: 67\n",
            "Non-trainable params: 0\n",
            "----------------------------------------------------------------\n",
            "Input size (MB): 0.00\n",
            "Forward/backward pass size (MB): 0.00\n",
            "Params size (MB): 0.00\n",
            "Estimated Total Size (MB): 0.00\n",
            "----------------------------------------------------------------\n"
          ]
        }
      ]
    },
    {
      "cell_type": "code",
      "source": [
        "X_train[0]"
      ],
      "metadata": {
        "colab": {
          "base_uri": "https://localhost:8080/"
        },
        "id": "InBlr-Rr4Jua",
        "outputId": "4704e6cb-5ce2-4f80-b6ac-202ac6aa7456"
      },
      "execution_count": null,
      "outputs": [
        {
          "output_type": "execute_result",
          "data": {
            "text/plain": [
              "tensor([0.7150, 0.0113, 1.0488, 0.8702])"
            ]
          },
          "metadata": {},
          "execution_count": 26
        }
      ]
    },
    {
      "cell_type": "code",
      "source": [
        "y_pred = model_classifier(X_train[0])\n",
        "y_pred"
      ],
      "metadata": {
        "colab": {
          "base_uri": "https://localhost:8080/"
        },
        "id": "hqcgm8gZ4C17",
        "outputId": "707fd02f-2e92-47db-a167-2557a9b4d20c"
      },
      "execution_count": null,
      "outputs": [
        {
          "output_type": "execute_result",
          "data": {
            "text/plain": [
              "tensor([ 0.0074, -0.2822,  0.1523], grad_fn=<AddBackward0>)"
            ]
          },
          "metadata": {},
          "execution_count": 27
        }
      ]
    },
    {
      "cell_type": "code",
      "source": [
        "loss_fn = nn.CrossEntropyLoss()"
      ],
      "metadata": {
        "id": "yJmpOr4y52a_"
      },
      "execution_count": null,
      "outputs": []
    },
    {
      "cell_type": "code",
      "source": [
        "loss = loss_fn(y_pred, Y_train[0])\n",
        "loss"
      ],
      "metadata": {
        "colab": {
          "base_uri": "https://localhost:8080/"
        },
        "id": "D8Y5mcVK6CCq",
        "outputId": "a931cee9-19a6-4445-ca0b-9614f838b24a"
      },
      "execution_count": null,
      "outputs": [
        {
          "output_type": "execute_result",
          "data": {
            "text/plain": [
              "tensor(0.9214, grad_fn=<NllLossBackward0>)"
            ]
          },
          "metadata": {},
          "execution_count": 29
        }
      ]
    },
    {
      "cell_type": "code",
      "source": [
        "loss.item()"
      ],
      "metadata": {
        "colab": {
          "base_uri": "https://localhost:8080/"
        },
        "id": "zObTCe0v8_GI",
        "outputId": "e6bfb953-0172-44c6-f95f-5d02795d7fc7"
      },
      "execution_count": null,
      "outputs": [
        {
          "output_type": "execute_result",
          "data": {
            "text/plain": [
              "0.9213845729827881"
            ]
          },
          "metadata": {},
          "execution_count": 30
        }
      ]
    },
    {
      "cell_type": "code",
      "source": [
        "learning_rate = 0.01\n",
        "\n",
        "optimizer = optim.SGD(\n",
        "    model_classifier.parameters(),\n",
        "    learning_rate\n",
        ")"
      ],
      "metadata": {
        "id": "uTecytfN55nG"
      },
      "execution_count": null,
      "outputs": []
    },
    {
      "cell_type": "code",
      "source": [
        "num_epochs = 20\n",
        "losses = []\n",
        "for epoch in range(num_epochs):\n",
        "    epoch_loss = []\n",
        "    for x_train, y_train in zip(X_train, Y_train):\n",
        "        y_pred = model_classifier(x_train)\n",
        "        loss = loss_fn(y_pred, y_train)\n",
        "        epoch_loss.append(loss.item())\n",
        "\n",
        "        optimizer.zero_grad()\n",
        "        loss.backward()\n",
        "        optimizer.step()\n",
        "    losses.append(sum(epoch_loss)/len(epoch_loss))"
      ],
      "metadata": {
        "id": "U7011Dm-5vnw"
      },
      "execution_count": null,
      "outputs": []
    },
    {
      "cell_type": "code",
      "source": [
        "losses"
      ],
      "metadata": {
        "colab": {
          "base_uri": "https://localhost:8080/"
        },
        "id": "qfrKOE8V52MG",
        "outputId": "967e53e8-f4f6-48ec-b9b8-d04bdf71d107"
      },
      "execution_count": null,
      "outputs": [
        {
          "output_type": "execute_result",
          "data": {
            "text/plain": [
              "[1.0220808364096141,\n",
              " 0.7892919631231399,\n",
              " 0.5656777904147193,\n",
              " 0.43206991709413983,\n",
              " 0.3591597341001034,\n",
              " 0.31344637402466363,\n",
              " 0.2815234812508736,\n",
              " 0.25728054582363086,\n",
              " 0.23809761630726003,\n",
              " 0.22223558177107147,\n",
              " 0.2087183050567373,\n",
              " 0.19690465535746798,\n",
              " 0.1863620154160474,\n",
              " 0.17690506201636577,\n",
              " 0.1683366762330046,\n",
              " 0.16056279294702802,\n",
              " 0.15347826486963423,\n",
              " 0.14700075439288326,\n",
              " 0.14108285806917895,\n",
              " 0.13565213933332068]"
            ]
          },
          "metadata": {},
          "execution_count": 44
        }
      ]
    },
    {
      "cell_type": "code",
      "source": [
        "with torch.no_grad():\n",
        "    Y_pred = model_classifier(X_test)"
      ],
      "metadata": {
        "id": "np5-sppT9ojM"
      },
      "execution_count": null,
      "outputs": []
    },
    {
      "cell_type": "code",
      "source": [
        "Y_pred = torch.argmax(Y_pred, dim=1)"
      ],
      "metadata": {
        "id": "en_D2sAR9tWk"
      },
      "execution_count": null,
      "outputs": []
    },
    {
      "cell_type": "code",
      "source": [
        "Y_pred"
      ],
      "metadata": {
        "colab": {
          "base_uri": "https://localhost:8080/"
        },
        "id": "QwjpA6eB91vu",
        "outputId": "40ff7b47-5b9f-4165-faf4-76238e3f5693"
      },
      "execution_count": null,
      "outputs": [
        {
          "output_type": "execute_result",
          "data": {
            "text/plain": [
              "tensor([1, 2, 1, 1, 1, 1, 1, 2, 2, 0, 1, 0, 2, 0, 2, 0, 2, 1, 2, 2, 1, 0, 2, 2,\n",
              "        2, 0, 1, 1, 2, 0, 1, 2, 0, 0, 1, 0, 2, 1, 2, 1, 0, 1, 1, 2, 2])"
            ]
          },
          "metadata": {},
          "execution_count": 47
        }
      ]
    },
    {
      "cell_type": "code",
      "source": [
        "sum(Y_pred == Y_test)/len(Y_test)"
      ],
      "metadata": {
        "colab": {
          "base_uri": "https://localhost:8080/"
        },
        "id": "AciUI7rv920-",
        "outputId": "33bc9541-5271-4738-d704-ce6eee936220"
      },
      "execution_count": null,
      "outputs": [
        {
          "output_type": "execute_result",
          "data": {
            "text/plain": [
              "tensor(0.9778)"
            ]
          },
          "metadata": {},
          "execution_count": 48
        }
      ]
    }
  ]
}